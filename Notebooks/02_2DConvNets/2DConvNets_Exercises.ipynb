{
  "nbformat": 4,
  "nbformat_minor": 0,
  "metadata": {
    "colab": {
      "name": "2DConvNets_Exercises.ipynb",
      "provenance": [],
      "collapsed_sections": []
    },
    "kernelspec": {
      "name": "python3",
      "display_name": "Python 3"
    },
    "accelerator": "TPU"
  },
  "cells": [
    {
      "cell_type": "markdown",
      "metadata": {
        "id": "X4PbX-z5_hux",
        "colab_type": "text"
      },
      "source": [
        "# Introduction\n",
        "\n",
        "In this notebook, we are going to practice building a 2D Convolutional Neural Network to process the MNIST dataset. This is a classic problem, the goal is to build a tool which can accurately classify images of hand written digits as 0, 1, 2, etc. Some common applications for this kind of program include reading text off bank checks, reading hand written zip codes for the post office.\n"
      ]
    },
    {
      "cell_type": "markdown",
      "metadata": {
        "id": "-AKfkTGlniRI",
        "colab_type": "text"
      },
      "source": [
        "# Imports\n",
        "\n",
        "We start by importing the packages and modules we will be needing for this project."
      ]
    },
    {
      "cell_type": "code",
      "metadata": {
        "id": "FVH-gplW9l-G",
        "colab_type": "code",
        "colab": {}
      },
      "source": [
        "# Load standard numerical and plotting packages\n",
        "import numpy as np\n",
        "import matplotlib.pyplot as plt\n",
        "\n",
        "# Load some machine learning packages\n",
        "from sklearn.model_selection import train_test_split\n",
        "\n",
        "# scikit-learn performance metric utilities\n",
        "from sklearn.metrics import confusion_matrix\n",
        "from sklearn.metrics import accuracy_score\n",
        "\n",
        "# Import our neural network building tools\n",
        "import tensorflow as tf\n",
        "\n",
        "# Garbage collection (for saving RAM during training)\n",
        "import gc"
      ],
      "execution_count": 1,
      "outputs": []
    },
    {
      "cell_type": "code",
      "metadata": {
        "id": "pG17vmwd_HVl",
        "colab_type": "code",
        "colab": {}
      },
      "source": [
        "# Set plotting preferences\n",
        "import matplotlib\n",
        "%matplotlib inline\n",
        "font = {'family' : 'sans-serif',\n",
        "        'weight' : 'normal',\n",
        "        'size'   : 16}\n",
        "matplotlib.rc('font', **font)"
      ],
      "execution_count": 2,
      "outputs": []
    },
    {
      "cell_type": "markdown",
      "metadata": {
        "id": "Tqir5j5d_NCY",
        "colab_type": "text"
      },
      "source": [
        "## Download the Dataset\n",
        "\n",
        "The MNIST dataset contains thousands of grayscale images of handwritten digits."
      ]
    },
    {
      "cell_type": "code",
      "metadata": {
        "id": "iMLeeAopFj-I",
        "colab_type": "code",
        "colab": {
          "base_uri": "https://localhost:8080/",
          "height": 54
        },
        "outputId": "ff525514-3e6b-4083-bde9-dd902f47f911"
      },
      "source": [
        "# Load the MNIST dataset: http://yann.lecun.com/exdb/mnist/\n",
        "(X_train, y_train), (X_test, y_test) = tf.keras.datasets.mnist.load_data()"
      ],
      "execution_count": 3,
      "outputs": [
        {
          "output_type": "stream",
          "text": [
            "Downloading data from https://storage.googleapis.com/tensorflow/tf-keras-datasets/mnist.npz\n",
            "11493376/11490434 [==============================] - 0s 0us/step\n"
          ],
          "name": "stdout"
        }
      ]
    },
    {
      "cell_type": "markdown",
      "metadata": {
        "colab_type": "text",
        "id": "eEFU58MaNPpk"
      },
      "source": [
        "## Visualize Some Example Images\n",
        "Let's see how the images look. This function shows a random example along with it's corresponding label."
      ]
    },
    {
      "cell_type": "code",
      "metadata": {
        "colab_type": "code",
        "id": "AwxNOsCMNNGd",
        "colab": {
          "base_uri": "https://localhost:8080/",
          "height": 567
        },
        "outputId": "d5aac23c-dae1-4c8b-ec87-7d56da0b0629"
      },
      "source": [
        "# Setup the number of images to examine\n",
        "n_rows = 2\n",
        "n_cols = 3\n",
        "img_inds = np.random.randint(0, len(y_train), size=n_rows*n_cols)\n",
        "# Initialize a set of subplots to populate and an image counter\n",
        "fig, ax_arr = plt.subplots(n_rows, n_cols, figsize=(12, 10))\n",
        "i_img = 0\n",
        "img_ind =0\n",
        "\n",
        "# Loop over the axes rows and columns\n",
        "for ax_row in range(n_rows):\n",
        "    for ax_col in range(n_cols):\n",
        "        # Grab the axes instance for this row/column\n",
        "        this_ax = ax_arr[ax_row, ax_col]\n",
        "\n",
        "        # Show the image and update the title with the label\n",
        "        this_ax.imshow(X_train[img_ind], cmap='gray_r')\n",
        "        this_ax.set_title(y_train[img_ind], fontdict={'size': 20})\n",
        "\n",
        "        # Increment the image index\n",
        "        img_ind += 1"
      ],
      "execution_count": 4,
      "outputs": [
        {
          "output_type": "display_data",
          "data": {
            "image/png": "[encoded data removed]",
            "text/plain": [
              "<Figure size 864x720 with 6 Axes>"
            ]
          },
          "metadata": {
            "tags": [],
            "needs_background": "light"
          }
        }
      ]
    },
    {
      "cell_type": "markdown",
      "metadata": {
        "id": "0lRTxunqAXSs",
        "colab_type": "text"
      },
      "source": [
        "## Normalize the Image Data\n",
        "\n",
        "As was explained in the tutorial notebook, it is very helpful to normalize the input data so that it falls in the range $\\left[0, 1\\right]$."
      ]
    },
    {
      "cell_type": "code",
      "metadata": {
        "id": "chnB93gvAWgQ",
        "colab_type": "code",
        "colab": {}
      },
      "source": [
        "# Use your brain and think about what steps are necessary to normalize the data\n",
        "X_train = X_train.astype(np.float32)/255.0 # <-- Apply normalization on this line\n",
        "X_test = X_test.astype(np.float32)/255.0 # <-- Apply normalization on this line\n",
        "\n",
        "# Appy one-hot encoding to the labels\n",
        "y_train = tf.keras.utils.to_categorical(y_train)\n",
        "y_test = tf.keras.utils.to_categorical(y_test)"
      ],
      "execution_count": 5,
      "outputs": []
    },
    {
      "cell_type": "markdown",
      "metadata": {
        "id": "e97uKpeLqKYG",
        "colab_type": "text"
      },
      "source": [
        "## Include an Axis for Color Channels\n",
        "\n",
        "Recall from the tutorial notebook that it is necessary to make sure that there is a \"channel\" axis in our training and test data to match what is expected by TensorFlow."
      ]
    },
    {
      "cell_type": "code",
      "metadata": {
        "id": "GriZ4f0SqNgq",
        "colab_type": "code",
        "colab": {}
      },
      "source": [
        "# Use your mighty brain again! Add a fourth axis to the image data if necessary\n",
        "X_train = X_train[:,:,:,np.newaxis] # <-- Reshape the data on this line (see Tutorial for an example)\n",
        "X_test = X_test[:,:,:,np.newaxis] # <-- Reshape the data on this line (see Tutorial for an example)"
      ],
      "execution_count": 6,
      "outputs": []
    },
    {
      "cell_type": "markdown",
      "metadata": {
        "id": "BpZXxXKHUX94",
        "colab_type": "text"
      },
      "source": [
        "## Build a CNN Model\n",
        "In this section, you are going to write our yown 2D-CNN! Luckily for us, keras has a nice 'Conv2D' layer we can use to make this a bit easier.\n",
        "\n",
        "To practice building a *specific* CNN architecture, your task is to build the same architecture shown in this diagram.\n",
        "\n",
        "![CNN Architecture](https://github.com/BeaverWorksMedlytics2020/Data_Public/raw/master/Images/Week3/CNN-example-block-diagram.jpg)"
      ]
    },
    {
      "cell_type": "code",
      "metadata": {
        "id": "rFoUdGi3UXTq",
        "colab_type": "code",
        "colab": {}
      },
      "source": [
        "def initialize_model():\n",
        "    \"\"\"Constructs a TensorFlow CNN model\"\"\"\n",
        "    # Clear out any old versions of the models\n",
        "    tf.keras.backend.clear_session()\n",
        "\n",
        "    # Initialize a `Sequential` model so we can just add layers sequentially\n",
        "    model = tf.keras.Sequential()\n",
        "    \n",
        "    # Insert an `Input` layer so that you can just focus on which convolutional\n",
        "    # and activation layers to add.\n",
        "    model.add(tf.keras.layers.Input(shape=(28, 28, 1)))\n",
        "\n",
        "    # Add the contents of `Layer 1` from the diagram above\n",
        "    ### YOUR CODE HERE ###\n",
        "    model.add(tf.keras.layers.Conv2D(32, (5,5), activation='relu'))\n",
        "    model.add(tf.keras.layers.MaxPooling2D(strides=(2,2)))\n",
        "    # Add the contents of `Layer 2` from the diagram above\n",
        "    ### YOUR CODE HERE ###\n",
        "    model.add(tf.keras.layers.Conv2D(64,(5,5), activation='relu'))\n",
        "    model.add(tf.keras.layers.MaxPooling2D(pool_size=(2,2)))\n",
        "    \n",
        "\n",
        "    # Add a `Flatten` layer to convert from feature maps into feature vectors\n",
        "    ### YOUR CODE HERE ###\n",
        "    model.add(tf.keras.layers.Flatten())\n",
        "\n",
        "    # Apply classification fully connected (`Dense`) layers\n",
        "    # NOTE: first dense layer uses `relu` and second uses `softmax`\n",
        "    ### YOUR CODE HERE ###\n",
        "    model.add(tf.keras.layers.Dense(1000, activation='relu'))\n",
        "    model.add(tf.keras.layers.Dense(10, activation='softmax'))\n",
        "\n",
        "    return model"
      ],
      "execution_count": 21,
      "outputs": []
    },
    {
      "cell_type": "markdown",
      "metadata": {
        "id": "OquXvhDMYe3u",
        "colab_type": "text"
      },
      "source": [
        "Now we can execute the model initialization code and summarize the model structure."
      ]
    },
    {
      "cell_type": "code",
      "metadata": {
        "id": "AHpXMMOPYgNy",
        "colab_type": "code",
        "colab": {
          "base_uri": "https://localhost:8080/",
          "height": 421
        },
        "outputId": "5f4b5768-12b1-44a9-e833-c73f2931a769"
      },
      "source": [
        "# Run the initialization model and print the contents to the user\n",
        "model = initialize_model()\n",
        "model.summary()"
      ],
      "execution_count": 22,
      "outputs": [
        {
          "output_type": "stream",
          "text": [
            "Model: \"sequential\"\n",
            "_________________________________________________________________\n",
            "Layer (type)                 Output Shape              Param #   \n",
            "=================================================================\n",
            "conv2d (Conv2D)              (None, 24, 24, 32)        832       \n",
            "_________________________________________________________________\n",
            "max_pooling2d (MaxPooling2D) (None, 12, 12, 32)        0         \n",
            "_________________________________________________________________\n",
            "conv2d_1 (Conv2D)            (None, 8, 8, 64)          51264     \n",
            "_________________________________________________________________\n",
            "max_pooling2d_1 (MaxPooling2 (None, 4, 4, 64)          0         \n",
            "_________________________________________________________________\n",
            "flatten (Flatten)            (None, 1024)              0         \n",
            "_________________________________________________________________\n",
            "dense (Dense)                (None, 1000)              1025000   \n",
            "_________________________________________________________________\n",
            "dense_1 (Dense)              (None, 10)                10010     \n",
            "=================================================================\n",
            "Total params: 1,087,106\n",
            "Trainable params: 1,087,106\n",
            "Non-trainable params: 0\n",
            "_________________________________________________________________\n"
          ],
          "name": "stdout"
        }
      ]
    },
    {
      "cell_type": "markdown",
      "metadata": {
        "colab_type": "text",
        "id": "3DwOWHAVMfZU"
      },
      "source": [
        "## Compile and Train the Model\n",
        "\n",
        "Specify the loss function and optimization routine. Then compile the model you designed. Compiltation of the Keras model initializes the model weights and sets some other model properties."
      ]
    },
    {
      "cell_type": "code",
      "metadata": {
        "colab_type": "code",
        "id": "azIn2h-PMfZV",
        "colab": {}
      },
      "source": [
        "# Specify the loss function to use\n",
        "loss_func = tf.keras.losses.categorical_crossentropy\n",
        "\n",
        "# Use the \"Adam\" adaptive learning algorithm to optimize the filter weights\n",
        "opt = tf.keras.optimizers.Adam(learning_rate=0.0001)\n",
        "\n",
        "# Generate a list of metrics to print\n",
        "metrics_to_print = ['accuracy']\n",
        "\n",
        "# Compile the model using the specified loss function and potimizer\n",
        "model.compile(loss=loss_func, optimizer=opt, metrics=metrics_to_print)"
      ],
      "execution_count": 23,
      "outputs": []
    },
    {
      "cell_type": "markdown",
      "metadata": {
        "id": "DiJSqgNDvpk0",
        "colab_type": "text"
      },
      "source": [
        "With your model compiled, run the training routine."
      ]
    },
    {
      "cell_type": "code",
      "metadata": {
        "id": "G_IjuSV-vth0",
        "colab_type": "code",
        "colab": {
          "base_uri": "https://localhost:8080/",
          "height": 127
        },
        "outputId": "8fa8c08c-57b9-4d87-9b45-8ee7bf7703f5"
      },
      "source": [
        "#This function is called after each epoch\n",
        "#(It will ensure that your training process does not consume all available RAM)\n",
        "class garbage_collect_callback(tf.keras.callbacks.Callback):\n",
        "  def on_epoch_end(self, epoch, logs=None):\n",
        "    gc.collect()\n",
        "\n",
        "history = model.fit(X_train,        # Train examples\n",
        "          y_train,                  # Train labels\n",
        "          epochs=3,                 # number of epochs\n",
        "          batch_size= 256,          # number of images for each iteration\n",
        "          callbacks=[garbage_collect_callback()],\n",
        "          validation_data=(X_test, y_test), # Data for validation\n",
        "          verbose=True)             # Print info about optimization process"
      ],
      "execution_count": 24,
      "outputs": [
        {
          "output_type": "stream",
          "text": [
            "Epoch 1/3\n",
            "235/235 [==============================] - 55s 232ms/step - loss: 0.6629 - accuracy: 0.8397 - val_loss: 0.2015 - val_accuracy: 0.9406\n",
            "Epoch 2/3\n",
            "235/235 [==============================] - 55s 232ms/step - loss: 0.1681 - accuracy: 0.9514 - val_loss: 0.1135 - val_accuracy: 0.9668\n",
            "Epoch 3/3\n",
            "235/235 [==============================] - 55s 232ms/step - loss: 0.1098 - accuracy: 0.9683 - val_loss: 0.0799 - val_accuracy: 0.9781\n"
          ],
          "name": "stdout"
        }
      ]
    },
    {
      "cell_type": "markdown",
      "metadata": {
        "id": "dF1ufZSGeZ5m",
        "colab_type": "text"
      },
      "source": [
        "## Evaluate Model Performance\n",
        "\n",
        "Now that the model has been trained, we can use it to generate predictions and evaluate its performance."
      ]
    },
    {
      "cell_type": "code",
      "metadata": {
        "colab_type": "code",
        "id": "_ngFO-dYMfZa",
        "colab": {
          "base_uri": "https://localhost:8080/",
          "height": 54
        },
        "outputId": "e889ad41-a541-40ab-f0c1-519e8f22ee22"
      },
      "source": [
        "# Evaluate model using the test images\n",
        "test_pred = model.predict(X_test)\n",
        "scores = model.evaluate(X_test, y_test, verbose=False)\n",
        "print('Testing model on test set:')\n",
        "print(f'Model Loss: {scores[0]:.3f}, {metrics_to_print[0]}: {scores[1]:.3f}')"
      ],
      "execution_count": 25,
      "outputs": [
        {
          "output_type": "stream",
          "text": [
            "Testing model on test set:\n",
            "Model Loss: 0.080, accuracy: 0.978\n"
          ],
          "name": "stdout"
        }
      ]
    },
    {
      "cell_type": "markdown",
      "metadata": {
        "colab_type": "text",
        "id": "sjAqutu2MfZf"
      },
      "source": [
        "Let's take a look at the confusion matrix for these model predictions"
      ]
    },
    {
      "cell_type": "code",
      "metadata": {
        "id": "yXGdzQ25e7gz",
        "colab_type": "code",
        "colab": {
          "base_uri": "https://localhost:8080/",
          "height": 201
        },
        "outputId": "032eed78-7471-4237-846b-eb85bcb5a5f5"
      },
      "source": [
        "# First, convert the one-hot encoded true labels and predictied labels back into\n",
        "# a numerical classification value. This can be accomplished with the `argmax`\n",
        "# function and that neat `axis` keyword, again.\n",
        "test_true_labels = y_test.argmax(axis=1)\n",
        "test_pred_labels = test_pred.argmax(axis=1)\n",
        "\n",
        "# Generate the confusion matrix using these labels\n",
        "mat = confusion_matrix(test_true_labels, test_pred_labels)\n",
        "print(mat)"
      ],
      "execution_count": 26,
      "outputs": [
        {
          "output_type": "stream",
          "text": [
            "[[ 972    0    1    0    0    1    1    1    4    0]\n",
            " [   0 1122    5    1    0    0    1    0    6    0]\n",
            " [   4    2 1011    0    0    0    1    7    7    0]\n",
            " [   1    0    5  986    0    7    0    6    5    0]\n",
            " [   1    0    3    2  963    0    4    1    2    6]\n",
            " [   2    0    2    8    0  872    3    1    4    0]\n",
            " [   6    3    1    1    3    2  938    0    4    0]\n",
            " [   1    5   19    3    0    0    0  993    1    6]\n",
            " [   4    0    2    2    2    0    2    3  956    3]\n",
            " [   5    6    0    5    8    6    0    4    7  968]]\n"
          ],
          "name": "stdout"
        }
      ]
    },
    {
      "cell_type": "markdown",
      "metadata": {
        "id": "WS3XfFfiftub",
        "colab_type": "text"
      },
      "source": [
        "To get a more visual representation of the matrix, let's plot it in matplotlib."
      ]
    },
    {
      "cell_type": "code",
      "metadata": {
        "colab_type": "code",
        "id": "h7RYbDzyMfZm",
        "colab": {
          "base_uri": "https://localhost:8080/",
          "height": 507
        },
        "outputId": "cc9ec198-be2a-47a0-a7ba-d9d6d769fbcd"
      },
      "source": [
        "# Generate a new figure\n",
        "plt.figure(figsize=(10,8))\n",
        "\n",
        "# Display the confusion matrix\n",
        "plt.imshow(mat, cmap='hot', interpolation='nearest')\n",
        "\n",
        "# Add some anotation for the plot\n",
        "plt.colorbar()\n",
        "plt.xlabel('True label')\n",
        "plt.ylabel('Predicted label')\n",
        "plt.show()"
      ],
      "execution_count": 27,
      "outputs": [
        {
          "output_type": "display_data",
          "data": {
            "image/png": "[encoded data removed]",
            "text/plain": [
              "<Figure size 720x576 with 2 Axes>"
            ]
          },
          "metadata": {
            "tags": [],
            "needs_background": "light"
          }
        }
      ]
    },
    {
      "cell_type": "markdown",
      "metadata": {
        "id": "pgtDkLA609me",
        "colab_type": "text"
      },
      "source": [
        "Wow! If you successfully built and trained that model, it looks like it does pretty well!"
      ]
    },
    {
      "cell_type": "markdown",
      "metadata": {
        "id": "lfFdnRy_GqBa",
        "colab_type": "text"
      },
      "source": [
        "# Visualizing Your Model\n",
        "\n",
        "Now that your model has been fully trained, let's see what its kernels and features look like."
      ]
    },
    {
      "cell_type": "markdown",
      "metadata": {
        "id": "1GV7wm7sGv2d",
        "colab_type": "text"
      },
      "source": [
        "## Visualizing Kernels\n",
        "\n",
        "In this section, we are going to visually examine some of the kernels which were learned during the training process. These are effectively the \"feature extractors\" that proved to be so effective. Perhaps by examining them, we can gain some insight into what particular features are useful for classifying hand drawn digits."
      ]
    },
    {
      "cell_type": "code",
      "metadata": {
        "id": "U3NQoWnoGEHD",
        "colab_type": "code",
        "colab": {}
      },
      "source": [
        "def get_kernels(model, layer_number):\n",
        "    \"\"\"Grab the kernels from the specified layer\"\"\"\n",
        "    # Grab the kernels and biases for the specified layer\n",
        "    conv_layers = [l for l in model.layers\n",
        "                   if isinstance(l, tf.keras.layers.Conv2D)]\n",
        "    layer = conv_layers[layer_number]\n",
        "    kernels, bias = layer.get_weights()\n",
        "\n",
        "    return kernels\n",
        "\n",
        "def get_grid_size(kernels):\n",
        "    \"\"\"Computes the necessary grid-size to show all the kernels or outputs\"\"\"\n",
        "    # Count the number of kernels and plan a plotting strategy\n",
        "    num_kernels = kernels.shape[-1]\n",
        "    grid_size = np.int(np.ceil(np.sqrt(num_kernels)))\n",
        "\n",
        "    return grid_size\n",
        "\n",
        "# Build a function to help visualize the contents of our model\n",
        "def visualize_kernels(model, layer_number):\n",
        "    \"\"\"Displays some of the kernels from the specified layer number\"\"\"\n",
        "    # Grab the kernels for the specified layer\n",
        "    kernels = get_kernels(model, layer_number)\n",
        "\n",
        "    # Count the number of kernels and compute the necessary plot grid size\n",
        "    num_kernels = kernels.shape[-1]\n",
        "    grid_size = np.int(np.ceil(np.sqrt(num_kernels)))\n",
        "\n",
        "    # Initialize a figure for plotting\n",
        "    fig = plt.figure(figsize=(10, 10))\n",
        "\n",
        "    # Loop over each of the kernels\n",
        "    for i_kern in range(num_kernels):\n",
        "        # Create a subplot to display this kernel\n",
        "        ax = plt.subplot(grid_size, grid_size, i_kern+1)\n",
        "\n",
        "        # Display the kernel for the user to view\n",
        "        ax.imshow(kernels[:,:,0,i_kern], cmap='gray_r')\n",
        "        \n",
        "        # Remove those distracting tick labels\n",
        "        ax.axes.xaxis.set_visible(False)\n",
        "        ax.axes.yaxis.set_visible(False)"
      ],
      "execution_count": 28,
      "outputs": []
    },
    {
      "cell_type": "markdown",
      "metadata": {
        "id": "OE4nvQyh68T8",
        "colab_type": "text"
      },
      "source": [
        "In the next cell, we use the defined visualization functions to examine the kernels of the trained model."
      ]
    },
    {
      "cell_type": "code",
      "metadata": {
        "id": "IdfrbgWN67wv",
        "colab_type": "code",
        "colab": {
          "base_uri": "https://localhost:8080/",
          "height": 578
        },
        "outputId": "931ac2d9-4945-4a57-b939-9b311bfc1255"
      },
      "source": [
        "# Pick a layer of kernels to visualize and then display them\n",
        "layer_to_visualize = 1\n",
        "visualize_kernels(model, layer_to_visualize)"
      ],
      "execution_count": null,
      "outputs": [
        {
          "output_type": "display_data",
          "data": {
            "image/png": "[encoded data removed]",
            "text/plain": [
              "<Figure size 720x720 with 64 Axes>"
            ]
          },
          "metadata": {
            "tags": [],
            "needs_background": "light"
          }
        }
      ]
    },
    {
      "cell_type": "markdown",
      "metadata": {
        "id": "vb0_4cTG4SF2",
        "colab_type": "text"
      },
      "source": [
        "**Question 1:** Do these filters look like they're picking up on any particular information? Perhaps there are nice lines and curves in the filters indicating what type of information is being identified as useful features... perhaps there are not.\n",
        "\n",
        "i have no clue what this is"
      ]
    },
    {
      "cell_type": "markdown",
      "metadata": {
        "id": "pxUMfsrpG_-q",
        "colab_type": "text"
      },
      "source": [
        "## Visualizing Features\n",
        "\n",
        "Now that we have examined the learned kernels, perhaps we can glean some more information by looking at the convolution of an input image with some of these kernels."
      ]
    },
    {
      "cell_type": "code",
      "metadata": {
        "id": "QgskDYcocruY",
        "colab_type": "code",
        "colab": {}
      },
      "source": [
        "def visualize_convolutions(model, layer_number, input_image):\n",
        "    # Re-build our trained model in a way that we can grab the convolved outputs\n",
        "    output = output = [l.output for l in model.layers\n",
        "        if isinstance(l, tf.keras.layers.Conv2D)]\n",
        "    model_visual = tf.keras.models.Model(inputs=model.input, outputs=output)\n",
        "\n",
        "    # Visualize the original input image\n",
        "    plt.figure()\n",
        "    plt.imshow(example_image[:, :, 0], cmap='gray_r')\n",
        "    plt.title('Original Image')\n",
        "\n",
        "    # Re-format the example image so that it can be passed through the model\n",
        "    input_image1 = input_image.reshape(1,28,28,1)\n",
        "\n",
        "    # Apply the model to the input image\n",
        "    output_convolutions = model_visual.predict(input_image1)[layer_number]\n",
        "\n",
        "    # Compute the grid size necessary to display the convolved layer outputs\n",
        "    num_outputs = output_convolutions.shape[-1]\n",
        "    grid_size = np.int(np.ceil(np.sqrt(num_outputs)))\n",
        "\n",
        "    # Initialize a figure for plotting the outputs\n",
        "    fig = plt.figure(figsize=(10, 10))\n",
        "\n",
        "    # Loop over each of the kernels\n",
        "    for i_conv in range(num_outputs):\n",
        "        # Create a subplot to display this kernel\n",
        "        ax = plt.subplot(grid_size, grid_size, i_conv+1)\n",
        "\n",
        "        # Display the kernel for the user to view\n",
        "        ax.imshow(output_convolutions[0,:,:,i_conv], cmap='gray_r')\n",
        "        \n",
        "        # Remove those distracting tick labels\n",
        "        ax.axes.xaxis.set_visible(False)\n",
        "        ax.axes.yaxis.set_visible(False)"
      ],
      "execution_count": 29,
      "outputs": []
    },
    {
      "cell_type": "code",
      "metadata": {
        "id": "FI7blQY_--T7",
        "colab_type": "code",
        "colab": {
          "base_uri": "https://localhost:8080/",
          "height": 852
        },
        "outputId": "54afc3e6-0a4b-4f39-cebf-6f8c8b59a705"
      },
      "source": [
        "# Grab a single test image to examine\n",
        "example_image = X_test[17] # <-- Try grabbing other test images, too!\n",
        "\n",
        "# Run the visualization funtion to examine some of the convolutions\n",
        "output_layer_to_visualize = 1\n",
        "visualize_convolutions(model, output_layer_to_visualize, example_image)"
      ],
      "execution_count": 30,
      "outputs": [
        {
          "output_type": "display_data",
          "data": {
            "image/png": "[encoded data removed]",
            "text/plain": [
              "<Figure size 432x288 with 1 Axes>"
            ]
          },
          "metadata": {
            "tags": [],
            "needs_background": "light"
          }
        },
        {
          "output_type": "display_data",
          "data": {
            "image/png": "[encoded data removed]",
            "text/plain": [
              "<Figure size 720x720 with 64 Axes>"
            ]
          },
          "metadata": {
            "tags": [],
            "needs_background": "light"
          }
        }
      ]
    },
    {
      "cell_type": "markdown",
      "metadata": {
        "id": "EdUUAxz-ARmh",
        "colab_type": "text"
      },
      "source": [
        "Examine the output convolved images for each of the primary layers of your CNN. Consider what these output convolved images represent.\n",
        "\n",
        "**Question 2:** Based on your answer to Question 1, above, how would you respond to someone who asked you \"What information is your CNN extracting from the input images to classify them correctly?\"\n",
        "\n",
        "i have no idea"
      ]
    },
    {
      "cell_type": "markdown",
      "metadata": {
        "id": "FEhrQfiHGYYs",
        "colab_type": "text"
      },
      "source": [
        "# Conclusion\n",
        "\n",
        "In this notebook, we built a 2D CNN to perform image classification on the MNIST dataset. Although we were able to achieve fairly good performance on this dataset, we have potentially sacrificed some of the interpretability that comes with more conventional approaches to image classification."
      ]
    }
  ]
}